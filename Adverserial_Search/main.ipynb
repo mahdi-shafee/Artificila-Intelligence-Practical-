{
 "cells": [
  {
   "cell_type": "markdown",
   "metadata": {},
   "source": [
    "<center>\n",
    "In God We Trust\n",
    "</center>"
   ]
  },
  {
   "cell_type": "markdown",
   "metadata": {},
   "source": [
    "# CE417: Artificial Intelligence\n",
    "\n",
    "Dr. Mahdiyeh Soleymani Baghshah\n",
    "\n",
    "Computer Engineering Department,\n",
    "Sharif University of Technology,\n",
    "Tehran, Tehran, Iran\n"
   ]
  },
  {
   "cell_type": "markdown",
   "metadata": {},
   "source": [
    "## Adversarial Search (25 Points)\n",
    "\n",
    "HW3 :: Practical Question 1\n",
    "\n",
    "<br>\n",
    "\n",
    "Corresponding TA: Aryan Ahadinia, Saeed Hedayatiyan\n"
   ]
  },
  {
   "cell_type": "markdown",
   "metadata": {},
   "source": [
    "Consider the given $8\\times8$ board game. There are two players in this game and they try to block each other and limit their valid moves by making walls. Their moves are limited to the 8 cells (or less when they are around the edges) beside them and the walls will start to appear only when a player steps into a random generated yellow cell and the wall will continue to be built until the player reaches the next yellow cell. The players start the game at $(0, 0)$ and $(7, 7)$ and they keep playing until one of them loses. There are multiple ways for a player to win the match:\n",
    "\n",
    "- If a player steps into a wall or out of the board, the player loses the match!\n",
    "- If the players reach the maximum moves the game finishes and the winner would be chosen based on the maximum valid move they have left plus the number of walls they have made and \"No more moves\" massege will appear on terminal.\n",
    "- If the getMove() function does not return any value after 2 seconds, the player loses the match and \"Time limit exceeded\" massage will appear on terminal.\n",
    "\n",
    "<center>\n",
    "<img src=\"assets/Q3.png\" style=\"width: 50%\"/>\n",
    "</center>\n"
   ]
  },
  {
   "cell_type": "markdown",
   "metadata": {},
   "source": [
    "In this question, the codes for starting the game were provided for you in Helper-codes folder. You are expected to implement the MinimaxPlayer class (which inherit the Player class) with alpha-beta pruning."
   ]
  },
  {
   "cell_type": "code",
   "execution_count": 98,
   "metadata": {},
   "outputs": [
    {
     "name": "stdout",
     "output_type": "stream",
     "text": [
      "Requirement already satisfied: tk in c:\\users\\salam\\appdata\\local\\programs\\python\\python310\\lib\\site-packages (0.1.0)\n",
      "\n",
      "[notice] A new release of pip available: 22.1.2 -> 22.3.1\n",
      "[notice] To update, run: python.exe -m pip install --upgrade pip\n",
      "Note: you may need to restart the kernel to use updated packages.\n"
     ]
    }
   ],
   "source": [
    "%pip install tk"
   ]
  },
  {
   "cell_type": "code",
   "execution_count": 99,
   "metadata": {},
   "outputs": [],
   "source": [
    "import numpy as np\n",
    "import random\n",
    "import time\n",
    "\n",
    "from copy import deepcopy\n",
    "\n",
    "from Helper_codes.graphics import *\n",
    "from Helper_codes.question3 import Cell\n",
    "from Helper_codes.question3 import IntPair\n",
    "from Helper_codes.question3 import Player\n",
    "from Helper_codes.question3 import NaivePlayer\n",
    "from Helper_codes.question3 import Board\n",
    "from Helper_codes.question3 import Game\n"
   ]
  },
  {
   "cell_type": "markdown",
   "metadata": {},
   "source": [
    "You can run cell below and watch two naive players."
   ]
  },
  {
   "cell_type": "code",
   "execution_count": 100,
   "metadata": {},
   "outputs": [
    {
     "name": "stdout",
     "output_type": "stream",
     "text": [
      "Player 2 has made an invalid move\n",
      "Player 1 has won\n",
      "\n",
      "1.0\n"
     ]
    }
   ],
   "source": [
    "p1 = NaivePlayer(1, 0, 0) # blue\n",
    "p2 = NaivePlayer(2, 7, 7) # red\n",
    "\n",
    "g = Game(p1, p2)\n",
    "\n",
    "numberOfMatches = 1\n",
    "score1, score2 = g.start(numberOfMatches)\n",
    "\n",
    "print(score1 / numberOfMatches)\n"
   ]
  },
  {
   "cell_type": "code",
   "execution_count": 101,
   "metadata": {},
   "outputs": [],
   "source": [
    "class MinimaxPlayer(Player):\n",
    "    def __init__(self, col, x, y, max_depth=7):\n",
    "        super().__init__(col, x, y)\n",
    "        self.max_depth = max_depth\n",
    "        self.us = col\n",
    "        self.enemy = col\n",
    "        if col == 1:\n",
    "            self.enemy = 2\n",
    "        else:\n",
    "            self.enemy = 1\n",
    "\n",
    "    ##############################\n",
    "    ## Feel free to add methods ##\n",
    "    ##############################\n",
    "\n",
    "    def min_value(self, board, alpha, beta, depth):\n",
    "        ##########################\n",
    "        # Code Here! (10 Points) #\n",
    "        # Use alpha-beta pruning #\n",
    "        ##########################\n",
    "        if depth == self.max_depth:\n",
    "            return board.getScore(self.us) - board.getScore(self.enemy), -1\n",
    "        \n",
    "        cur_x = board.getPlayerX(self.enemy)\n",
    "        cur_y = board.getPlayerY(self.enemy)\n",
    "\n",
    "        best_direction = 0\n",
    "        best_value = 1000\n",
    "\n",
    "        for i in range(4):\n",
    "            new_x = cur_x\n",
    "            new_y = cur_y\n",
    "            value = 1000\n",
    "            if i == 0:\n",
    "                new_x = new_x + 1\n",
    "            elif i == 1:\n",
    "                new_x = new_x - 1\n",
    "            elif i == 2:\n",
    "                new_y = new_y + 1\n",
    "            else:\n",
    "                new_y = new_y - 1\n",
    "\n",
    "            new_board = deepcopy(board)\n",
    "            res = new_board.move(IntPair(new_x, new_y), self.enemy)\n",
    "            if res == -1:\n",
    "                value = 1000\n",
    "            elif res == -2:\n",
    "                value = new_board.getScore(self.us) - new_board.getScore(self.enemy)\n",
    "            else:\n",
    "                value, direction = self.max_value(new_board, alpha, beta, depth + 1)\n",
    "\n",
    "            if value < best_value:\n",
    "                best_value = value\n",
    "                best_direction = i\n",
    "            beta = min(beta, best_value)\n",
    "            if beta <= alpha:\n",
    "                break\n",
    "\n",
    "        return best_value, best_direction\n",
    "        pass\n",
    "\n",
    "    def max_value(self, board, alpha, beta, depth):\n",
    "        ##########################\n",
    "        # Code Here! (10 Points) #\n",
    "        # Use alpha-beta pruning #\n",
    "        ##########################\n",
    "        if depth == self.max_depth:\n",
    "            return board.getScore(self.us) - board.getScore(self.enemy), -1\n",
    "        \n",
    "        cur_x = board.getPlayerX(self.us)\n",
    "        cur_y = board.getPlayerY(self.us)\n",
    "\n",
    "        best_direction = 0\n",
    "        best_value = -1000\n",
    "\n",
    "        for i in range(4):\n",
    "            new_x = cur_x\n",
    "            new_y = cur_y\n",
    "            value = -1000\n",
    "            if i == 0:\n",
    "                new_x = new_x + 1\n",
    "            elif i == 1:\n",
    "                new_x = new_x - 1\n",
    "            elif i == 2:\n",
    "                new_y = new_y + 1\n",
    "            else:\n",
    "                new_y = new_y - 1\n",
    "\n",
    "            new_board = deepcopy(board)\n",
    "            res = new_board.move(IntPair(new_x, new_y), self.us)\n",
    "            if res == -1:\n",
    "                value = -1000\n",
    "            elif res == -2:\n",
    "                value = new_board.getScore(self.us) - new_board.getScore(self.enemy)\n",
    "            else:\n",
    "                value, direction = self.min_value(new_board, alpha, beta, depth + 1)\n",
    "            if value > best_value:\n",
    "                best_value = value\n",
    "                best_direction = i\n",
    "            alpha = max(alpha, best_value)\n",
    "            if beta <= alpha:\n",
    "                break\n",
    "\n",
    "        return best_value, best_direction\n",
    "        pass\n",
    "\n",
    "    def getMove(self, board):\n",
    "        ################################################################################\n",
    "        # Code Here! (5 Points)                                                        #\n",
    "        # return IntPair(10, 10) when time limit exceeded or there is no possible move #\n",
    "        # return IntPair(20, 20) when max number of moves exceeded                     #\n",
    "        ################################################################################\n",
    "        best_val, best_dir = self.max_value(board, -1000, 1000, 0)\n",
    "        x_next = self.getX()\n",
    "        y_next = self.getY()\n",
    "        start = time.time()\n",
    "        while ((x_next == self.getX()) and (y_next == self.getY()) ):\n",
    "            rnd = best_dir\n",
    "            if ((rnd == 0) and (self.getX() + 1 < board.getSize()) and (board.getCell(self.getX() + 1, self.getY()).getColor() == 0)):\n",
    "                x_next += 1\n",
    "            elif ((rnd == 1) and (self.getX() - 1 >= 0) and (board.getCell(self.getX() - 1, self.getY()).getColor() == 0)):\n",
    "                x_next -= 1\n",
    "            elif ((rnd == 2) and (self.getY() + 1 < board.getSize()) and (board.getCell(self.getX(), self.getY() + 1).getColor() == 0)):\n",
    "                y_next += 1\n",
    "            elif ((rnd == 3) and (self.getY() - 1 >= 0) and (board.getCell(self.getX(), self.getY() - 1).getColor() == 0)):\n",
    "                y_next -= 1\n",
    "            \n",
    "        return IntPair(x_next, y_next)\n",
    "        pass\n"
   ]
  },
  {
   "cell_type": "code",
   "execution_count": 104,
   "metadata": {},
   "outputs": [
    {
     "name": "stdout",
     "output_type": "stream",
     "text": [
      "Player 2 has exceeded the time limit\n",
      "Player 1 has won\n",
      "\n",
      "1.0\n"
     ]
    }
   ],
   "source": [
    "p1 = MinimaxPlayer(1, 0, 0)\n",
    "p2 = NaivePlayer(2, 7, 7)\n",
    "\n",
    "g = Game(p1, p2)\n",
    "\n",
    "number_of_matches = 1\n",
    "score1, score2 = g.start(number_of_matches)\n",
    "\n",
    "print(score1 / number_of_matches)"
   ]
  }
 ],
 "metadata": {
  "kernelspec": {
   "display_name": "Python 3.10.2 64-bit",
   "language": "python",
   "name": "python3"
  },
  "language_info": {
   "codemirror_mode": {
    "name": "ipython",
    "version": 3
   },
   "file_extension": ".py",
   "mimetype": "text/x-python",
   "name": "python",
   "nbconvert_exporter": "python",
   "pygments_lexer": "ipython3",
   "version": "3.10.2"
  },
  "orig_nbformat": 4,
  "vscode": {
   "interpreter": {
    "hash": "d52d16d036a1482ffe774c8f1e76ae8e4e0f0b872023686895b726c9c226e62e"
   }
  }
 },
 "nbformat": 4,
 "nbformat_minor": 2
}
